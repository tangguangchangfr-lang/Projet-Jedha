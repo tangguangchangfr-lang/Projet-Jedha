{
 "cells": [
  {
   "cell_type": "code",
   "execution_count": 1,
   "id": "d9157def",
   "metadata": {},
   "outputs": [
    {
     "name": "stdout",
     "output_type": "stream",
     "text": [
      "You will receive:10541.35 \n"
     ]
    },
    {
     "data": {
      "text/plain": [
       "10541.350399999996"
      ]
     },
     "execution_count": 1,
     "metadata": {},
     "output_type": "execute_result"
    }
   ],
   "source": [
    "def calculate():\n",
    "    try:\n",
    "        total_amount = input(\"The total amount you wishe to place: \")\n",
    "        rate_interest =input(\"The rate of interest to which he is entitled: \")\n",
    "        nb_year = input(\"The number of years you wants to invest for: \")\n",
    "        if '%' in rate_interest:\n",
    "            raise ValueError(\"Error: Do not enter the interest rate as a percentage (e.g., 10%). Use decimal form instead.\")\n",
    "        \n",
    "        total_amount = float(total_amount)\n",
    "        rate_interest = float(rate_interest)\n",
    "        nb_year = float(nb_year)\n",
    "\n",
    "        if total_amount < 0 or rate_interest < 0 or nb_year <0:\n",
    "            raise ValueError(\"Error: Interest rate cannot be negative.\")\n",
    "        Future_amount = total_amount*(1+rate_interest)**nb_year\n",
    "\n",
    "    except ValueError as e: \n",
    "        print('Invalide input', e)\n",
    "        return None\n",
    "    else:\n",
    "        print(\"You will receive:{:4.2f} \".format(Future_amount))\n",
    "        return Future_amount\n",
    "    \n",
    "calculate()"
   ]
  }
 ],
 "metadata": {
  "kernelspec": {
   "display_name": "Python 3",
   "language": "python",
   "name": "python3"
  },
  "language_info": {
   "codemirror_mode": {
    "name": "ipython",
    "version": 3
   },
   "file_extension": ".py",
   "mimetype": "text/x-python",
   "name": "python",
   "nbconvert_exporter": "python",
   "pygments_lexer": "ipython3",
   "version": "3.13.4"
  }
 },
 "nbformat": 4,
 "nbformat_minor": 5
}
