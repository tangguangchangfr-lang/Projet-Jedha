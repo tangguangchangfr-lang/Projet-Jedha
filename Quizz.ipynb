{
 "cells": [
  {
   "cell_type": "markdown",
   "id": "fa059eca",
   "metadata": {},
   "source": [
    "QUIZZ"
   ]
  },
  {
   "cell_type": "code",
   "execution_count": null,
   "id": "200fa4a4",
   "metadata": {},
   "outputs": [
    {
     "name": "stdout",
     "output_type": "stream",
     "text": [
      "Qui est la fille la plus jolie du monde?\n",
      "Too bad! that is not the correct answer\n",
      "Qui est la plus méchante\n",
      "Too bad! that is not the correct answer\n",
      "Should she eat the apple rouge?\n",
      "Too bad! that is not the correct answer\n"
     ]
    }
   ],
   "source": [
    "\n",
    "\n",
    "print(\"Qui est la fille la plus jolie du monde?\")\n",
    "A1 = input(\"Tell me your answer: \")\n",
    "if A1 == \"White Snow\":\n",
    "    print(\"Good job! This is the right answer\")\n",
    "else:\n",
    "    print(\"Too bad! that is not the correct answer\")\n",
    "\n",
    "print(\"Qui est la plus méchante\")\n",
    "A2 = input(\"Tell me your answer: \")\n",
    "if A2 == \"Queen\":\n",
    "    print(\"Good job! This is the right answer\")\n",
    "else:\n",
    "    print(\"Too bad! that is not the correct answer\")\n",
    "\n",
    "print(\"Should she eat the red apple?\")\n",
    "A3 = input(\"Tell me your answer: \")\n",
    "input(\"Tell me your answer: \")\n",
    "if A3 == \"No\":\n",
    "    print(\"Good job! This is the right answer\")\n",
    "else:\n",
    "    print(\"Too bad! that is not the correct answer\")\n",
    "\n",
    "\n",
    "\n",
    "\n"
   ]
  },
  {
   "cell_type": "code",
   "execution_count": null,
   "id": "87730dfb",
   "metadata": {},
   "outputs": [
    {
     "name": "stdout",
     "output_type": "stream",
     "text": [
      "Qui est la fille la plus jolie du monde?\n",
      "Too bad! that is not the correct answer\n",
      "Qui est la fille la plus jolie du monde?\n",
      "Too bad! that is not the correct answer\n",
      "Qui est la fille la plus jolie du monde?\n",
      "Good job! This is the right answer\n",
      "Qui est la plus méchante?\n",
      "Too bad! that is not the correct answer\n",
      "Qui est la plus méchante?\n",
      "Too bad! that is not the correct answer\n",
      "Qui est la plus méchante?\n",
      "Too bad! that is not the correct answer\n",
      "Qui est la plus méchante?\n",
      "Good job! This is the right answer\n",
      "Should she eat the red apple?\n",
      "Too bad! that is not the correct answer\n",
      "Should she eat the red apple?\n",
      "Too bad! that is not the correct answer\n",
      "Should she eat the red apple?\n",
      "Too bad! that is not the correct answer\n",
      "Should she eat the red apple?\n",
      "Too bad! that is not the correct answer\n",
      "Should she eat the red apple?\n"
     ]
    }
   ],
   "source": [
    "A1 = \"\"\n",
    "\n",
    "while A1 != \"White Snow\":\n",
    "    print(\"Qui est la fille la plus jolie du monde?\")\n",
    "    A1 = input(\"Tell me your answer: \")\n",
    "\n",
    "    if  A1 != \"White Snow\":\n",
    "        print(\"Too bad! that is not the correct answer\")\n",
    "\n",
    "print(\"Good job! This is the right answer\")\n",
    "\n",
    "A2 = \"\"\n",
    "\n",
    "while A2 != \"Queen\":\n",
    "    print(\"Qui est la plus méchante?\")\n",
    "    A2 = input(\"Tell me your answer: \")\n",
    "\n",
    "    if  A2 != \"Queen\":\n",
    "        print(\"Too bad! that is not the correct answer\")\n",
    "\n",
    "print(\"Good job! This is the right answer\")\n",
    "\n",
    "A3 = \"\"\n",
    "\n",
    "while A3 != \"No\":\n",
    "    print(\"Should she eat the red apple?\")\n",
    "    A2 = input(\"Tell me your answer: \")\n",
    "\n",
    "    if  A3 != \"No\":\n",
    "        print(\"Too bad! that is not the correct answer\")\n",
    "\n",
    "print(\"Good job! This is the right answer\")"
   ]
  },
  {
   "cell_type": "code",
   "execution_count": null,
   "id": "403f9351",
   "metadata": {},
   "outputs": [
    {
     "name": "stdout",
     "output_type": "stream",
     "text": [
      "Who is the most beautiful girl?\n",
      "Good job! This is the right answer\n",
      "Who is the meanest?\n",
      "Good job! This is the right answer\n",
      "Should she eat the red apple?\n",
      "Good job! This is the right answer\n"
     ]
    }
   ],
   "source": [
    "correct_answer1 = \"White Snow\"\n",
    "attemps = 0\n",
    "user_answer1 = \"\"\n",
    "\n",
    "while correct_answer1 != user_answer1 and attemps < 3:\n",
    "    print(\"Who is the most beautiful girl?\")\n",
    "    user_answer1 = input(\"Tell me your answer: \")\n",
    "\n",
    "    if  user_answer1 == correct_answer1:\n",
    "        print(\"Good job! This is the right answer\")\n",
    "        break  \n",
    "        \n",
    "    else:\n",
    "        attemps += 1\n",
    "        print(\"Too bad! that is not the correct answer\")\n",
    "        \n",
    "if attemps >= 3:\n",
    "    print(\"Too bad, you lost the game!\")\n",
    "\n",
    "\n",
    "correct_answer2 = \"Queen\"\n",
    "attemps = 0\n",
    "user_answer2 = \"\"\n",
    "\n",
    "while correct_answer2 != user_answer2 and attemps < 3:\n",
    "    print(\"Who is the meanest?\")\n",
    "    user_answer2 = input(\"Tell me your answer: \")\n",
    "\n",
    "    if  user_answer2 == correct_answer2:\n",
    "        print(\"Good job! This is the right answer\")\n",
    "        break\n",
    "    else:\n",
    "        attemps += 1\n",
    "        print(\"Too bad! that is not the correct answer\")\n",
    "        \n",
    "if attemps >= 3:\n",
    "    print(\"Too bad, you lost the game!\")\n",
    "\n",
    "correct_answer3 = \"No\"\n",
    "attemps = 0\n",
    "user_answer3 = \"\"\n",
    "\n",
    "while correct_answer3 != user_answer3 and attemps < 3:\n",
    "    print(\"Should she eat the red apple?\")\n",
    "    user_answer3 = input(\"Tell me your answer: \")\n",
    "\n",
    "    if  user_answer3 == correct_answer3:\n",
    "        print(\"Good job! This is the right answer\")\n",
    "        break\n",
    "    else:\n",
    "        attemps += 1\n",
    "        print(\"Too bad! that is not the correct answer\")\n",
    "        \n",
    "if attemps >= 3:\n",
    "    print(\"Too bad, you lost the game!\")\n",
    "\n",
    "    "
   ]
  },
  {
   "cell_type": "code",
   "execution_count": null,
   "id": "22dc9d85",
   "metadata": {},
   "outputs": [
    {
     "name": "stdout",
     "output_type": "stream",
     "text": [
      "Who is the most beautiful girl?\n",
      "Good job! This is the right answer\n",
      "True bravo\n"
     ]
    }
   ],
   "source": [
    "def answer_my_question(Question, Correct_answer):\n",
    "    attemps = 0\n",
    "    User_answer = \" \"\n",
    "\n",
    "    while Correct_answer.lower() != User_answer.lower() and attemps < 3:\n",
    "        print(Question)\n",
    "        User_answer = input(\"Tell me your answer: \")\n",
    "\n",
    "        if User_answer.lower() == Correct_answer.lower():\n",
    "            print(\"Good job! This is the right answer\")\n",
    "            return True\n",
    "        else:\n",
    "            attemps += 1\n",
    "            print(\"Too bad! that is not the correct answer\")\n",
    "        \n",
    "    if attemps >= 3:\n",
    "        print(\"Too bad, you lost the game!\")\n",
    "        return False\n",
    "\n",
    "result1 = answer_my_question(\"Who is the most beautiful girl?\", \"White Snow\")\n",
    "if result1:\n",
    "    result2 = answer_my_question(\"Who is the meanest?\", \"Queen\")\n",
    "    if result2:\n",
    "        result3 = answer_my_question(\"Should she eat the red apple?\", \"No\")\n",
    "        if result3:\n",
    "            print(\"Congratulations! You have answered all questions correctly!\")"
   ]
  },
  {
   "cell_type": "code",
   "execution_count": null,
   "id": "77c2aaaa",
   "metadata": {},
   "outputs": [],
   "source": [
    "result1 = answer_my_question(\"Who is the most beautiful girl?\", \"White Snow\")\n",
    "result2 = answer_my_question(\"Who is the meanest?\", \"Queen\")\n",
    "result3 = answer_my_question(\"Should she eat the red apple?\", \"No\")"
   ]
  },
  {
   "cell_type": "code",
   "execution_count": null,
   "id": "5db39aa0",
   "metadata": {},
   "outputs": [],
   "source": [
    "Questions = {\"Who is the most beautiful girl?\": \"White Snow\",\n",
    "             \"Who is the meanest?\" : \"Queen\",\n",
    "             \"Should she eat the red apple?\" : \"No\"}"
   ]
  },
  {
   "cell_type": "code",
   "execution_count": null,
   "id": "feca5246",
   "metadata": {},
   "outputs": [
    {
     "ename": "AttributeError",
     "evalue": "'list' object has no attribute 'list_initial'",
     "output_type": "error",
     "traceback": [
      "\u001b[31m---------------------------------------------------------------------------\u001b[39m",
      "\u001b[31mAttributeError\u001b[39m                            Traceback (most recent call last)",
      "\u001b[36mCell\u001b[39m\u001b[36m \u001b[39m\u001b[32mIn[31]\u001b[39m\u001b[32m, line 21\u001b[39m\n\u001b[32m     17\u001b[39m         \u001b[38;5;28;01mreturn\u001b[39;00m \u001b[38;5;28mself\u001b[39m.list_initial\n\u001b[32m     20\u001b[39m list_initial = [(\u001b[38;5;28;01mNone\u001b[39;00m, \u001b[32m2\u001b[39m, \u001b[32m3\u001b[39m, \u001b[32m12\u001b[39m, \u001b[32m5\u001b[39m, \u001b[32m6\u001b[39m, \u001b[38;5;28;01mNone\u001b[39;00m)]  \u001b[38;5;66;03m# \u001b[39;00m\n\u001b[32m---> \u001b[39m\u001b[32m21\u001b[39m result = \u001b[43mImputer\u001b[49m\u001b[43m.\u001b[49m\u001b[43mremplir_median\u001b[49m\u001b[43m(\u001b[49m\u001b[43mlist_initial\u001b[49m\u001b[43m)\u001b[49m\n\u001b[32m     22\u001b[39m \u001b[38;5;28mprint\u001b[39m(\u001b[33m\"\u001b[39m\u001b[33mHere is my list after imputer: \u001b[39m\u001b[33m\"\u001b[39m, result)\n",
      "\u001b[36mCell\u001b[39m\u001b[36m \u001b[39m\u001b[32mIn[31]\u001b[39m\u001b[32m, line 7\u001b[39m, in \u001b[36mImputer.remplir_median\u001b[39m\u001b[34m(self)\u001b[39m\n\u001b[32m      6\u001b[39m \u001b[38;5;28;01mdef\u001b[39;00m\u001b[38;5;250m \u001b[39m\u001b[34mremplir_median\u001b[39m(\u001b[38;5;28mself\u001b[39m):\n\u001b[32m----> \u001b[39m\u001b[32m7\u001b[39m     numbers = [i \u001b[38;5;28;01mfor\u001b[39;00m i \u001b[38;5;129;01min\u001b[39;00m \u001b[38;5;28;43mself\u001b[39;49m\u001b[43m.\u001b[49m\u001b[43mlist_initial\u001b[49m \u001b[38;5;28;01mif\u001b[39;00m i \u001b[38;5;129;01mis\u001b[39;00m \u001b[38;5;129;01mnot\u001b[39;00m \u001b[38;5;28;01mNone\u001b[39;00m]\n\u001b[32m      9\u001b[39m     \u001b[38;5;28;01mif\u001b[39;00m \u001b[38;5;129;01mnot\u001b[39;00m numbers:\n\u001b[32m     10\u001b[39m         \u001b[38;5;28;01mreturn\u001b[39;00m list_initial\n",
      "\u001b[31mAttributeError\u001b[39m: 'list' object has no attribute 'list_initial'"
     ]
    }
   ],
   "source": [
    "import statistics\n",
    "class Imputer():\n",
    "    def __init__(self):\n",
    "        self.list_initial = list_initial\n",
    "    \n",
    "    def remplir_median(self):\n",
    "        numbers = [i for i in self.list_initial if i is not None]\n",
    "\n",
    "        if not numbers:\n",
    "            return list_initial\n",
    "\n",
    "        median = statistics.median(numbers)\n",
    "\n",
    "        for i, x in enumerate(self.list_initial):\n",
    "            if x is None:\n",
    "                self.list_initial[i] = median\n",
    "        return self.list_initial\n",
    "\n",
    "\n",
    "list_initial = [(None, 2, 3, 12, 5, 6, None)]  # \n",
    "result = Imputer.remplir_median(list_initial)\n",
    "print(\"Here is my list after imputer: \", result)"
   ]
  }
 ],
 "metadata": {
  "kernelspec": {
   "display_name": "Python 3",
   "language": "python",
   "name": "python3"
  },
  "language_info": {
   "codemirror_mode": {
    "name": "ipython",
    "version": 3
   },
   "file_extension": ".py",
   "mimetype": "text/x-python",
   "name": "python",
   "nbconvert_exporter": "python",
   "pygments_lexer": "ipython3",
   "version": "3.13.4"
  }
 },
 "nbformat": 4,
 "nbformat_minor": 5
}
