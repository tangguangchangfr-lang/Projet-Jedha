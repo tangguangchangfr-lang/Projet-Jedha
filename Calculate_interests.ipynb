{
 "cells": [
  {
   "cell_type": "code",
   "execution_count": 2,
   "id": "9f3a937b",
   "metadata": {},
   "outputs": [],
   "source": [
    "import requests\n",
    "request = requests.get(\"https://swapi.dev/api/people/1/\")\n",
    "dic = request.json()\n"
   ]
  },
  {
   "cell_type": "code",
   "execution_count": null,
   "id": "7bf2da56",
   "metadata": {},
   "outputs": [
    {
     "name": "stdout",
     "output_type": "stream",
     "text": [
      "name\n",
      "height\n",
      "mass\n",
      "hair_color\n",
      "skin_color\n",
      "eye_color\n",
      "birth_year\n",
      "gender\n",
      "homeworld\n",
      "films\n",
      "species\n",
      "vehicles\n",
      "starships\n",
      "created\n",
      "edited\n",
      "url\n"
     ]
    }
   ],
   "source": [
    "for i in dic:\n",
    "    print(i)"
   ]
  },
  {
   "cell_type": "code",
   "execution_count": 6,
   "id": "667cc398",
   "metadata": {},
   "outputs": [
    {
     "name": "stdout",
     "output_type": "stream",
     "text": [
      "Luke Skywalker is 172 cm tall and weighs 77 kg. He was born in 19BBY\n"
     ]
    }
   ],
   "source": [
    "print(dic[\"name\"], \"is\", dic[\"height\"], \"cm tall and weighs\", dic[\"mass\"], \"kg. He was born in\", dic[\"birth_year\"])"
   ]
  },
  {
   "cell_type": "code",
   "execution_count": null,
   "id": "aa055253",
   "metadata": {},
   "outputs": [
    {
     "data": {
      "text/plain": [
       "[9]"
      ]
     },
     "execution_count": 8,
     "metadata": {},
     "output_type": "execute_result"
    }
   ],
   "source": [
    "age = [9, 12, 16, 34, 58]\n",
    "new_age = []\n",
    "\n",
    "for i in age:\n",
    "    if i == min(age):\n",
    "        new_age.append(i)\n",
    "        age = age.del(i)\n",
    "        \n",
    "\n",
    "new_age\n",
    "\n",
    "\n"
   ]
  },
  {
   "cell_type": "code",
   "execution_count": 22,
   "id": "45138f57",
   "metadata": {},
   "outputs": [
    {
     "name": "stdout",
     "output_type": "stream",
     "text": [
      "156.0\n"
     ]
    },
    {
     "data": {
      "text/plain": [
       "[50, 10, 100, 25, 1000, 21, 12, 30]"
      ]
     },
     "execution_count": 22,
     "metadata": {},
     "output_type": "execute_result"
    }
   ],
   "source": [
    "kilometres_travelled = [50, 10, 100, 25, 1000, 21, 12,30]\n",
    "total = 0\n",
    "\n",
    "for i in kilometres_travelled:\n",
    "    total += i\n",
    "\n",
    "avg = total / len(kilometres_travelled)\n",
    "print(avg)\n",
    "\n",
    "kilometres_travelled\n",
    "# ça ne représent pas le vrai avg parce qu'il y a une valeur extrême"
   ]
  },
  {
   "cell_type": "code",
   "execution_count": 25,
   "id": "fb17cd33",
   "metadata": {},
   "outputs": [
    {
     "name": "stdout",
     "output_type": "stream",
     "text": [
      "25\n"
     ]
    }
   ],
   "source": [
    "import statistics\n",
    "del kilometres_travelled[4]\n",
    "print(statistics.median(kilometres_travelled))\n",
    "\n",
    "\n"
   ]
  },
  {
   "cell_type": "code",
   "execution_count": 42,
   "id": "6eaa63c9",
   "metadata": {},
   "outputs": [
    {
     "name": "stdout",
     "output_type": "stream",
     "text": [
      "You will receive:37129.30 \n"
     ]
    },
    {
     "data": {
      "text/plain": [
       "37129.3"
      ]
     },
     "execution_count": 42,
     "metadata": {},
     "output_type": "execute_result"
    }
   ],
   "source": [
    "def calculate():\n",
    "    try:\n",
    "        total_amount = input(\"The total amount you wishe to place: \")\n",
    "        rate_interest =input(\"The rate of interest to which he is entitled: \")\n",
    "        nb_year = input(\"The number of years you wants to invest for: \")\n",
    "        if '%' in rate_interest:\n",
    "            raise ValueError(\"Error: Do not enter the interest rate as a percentage (e.g., 10%). Use decimal form instead.\")\n",
    "        \n",
    "        total_amount = float(total_amount)\n",
    "        rate_interest = float(rate_interest)\n",
    "        nb_year = float(nb_year)\n",
    "\n",
    "        if total_amount < 0 or rate_interest < 0 or nb_year <0:\n",
    "            raise ValueError(\"Error: Interest rate cannot be negative.\")\n",
    "        Future_amount = total_amount*(1+rate_interest)**nb_year\n",
    "\n",
    "    except ValueError as e: \n",
    "        print('Invalide input', e)\n",
    "        return None\n",
    "    else:\n",
    "        print(\"You will receive:{:4.2f} \".format(Future_amount))\n",
    "        return Future_amount\n",
    "    \n",
    "calculate()\n",
    "\n"
   ]
  },
  {
   "cell_type": "code",
   "execution_count": null,
   "id": "200fa4a4",
   "metadata": {},
   "outputs": [
    {
     "name": "stdout",
     "output_type": "stream",
     "text": [
      "Qui est la fille la plus jolie du monde?\n",
      "Too bad! that is not the correct answer\n",
      "Qui est la plus méchante\n",
      "Too bad! that is not the correct answer\n",
      "Should she eat the apple rouge?\n",
      "Too bad! that is not the correct answer\n"
     ]
    }
   ],
   "source": [
    "\n",
    "\n",
    "print(\"Qui est la fille la plus jolie du monde?\")\n",
    "A1 = input(\"Tell me your answer: \")\n",
    "if A1 == \"White Snow\":\n",
    "    print(\"Good job! This is the right answer\")\n",
    "else:\n",
    "    print(\"Too bad! that is not the correct answer\")\n",
    "\n",
    "print(\"Qui est la plus méchante\")\n",
    "A2 = input(\"Tell me your answer: \")\n",
    "if A2 == \"Queen\":\n",
    "    print(\"Good job! This is the right answer\")\n",
    "else:\n",
    "    print(\"Too bad! that is not the correct answer\")\n",
    "\n",
    "print(\"Should she eat the red apple?\")\n",
    "A3 = input(\"Tell me your answer: \")\n",
    "input(\"Tell me your answer: \")\n",
    "if A3 == \"No\":\n",
    "    print(\"Good job! This is the right answer\")\n",
    "else:\n",
    "    print(\"Too bad! that is not the correct answer\")\n",
    "\n",
    "\n",
    "\n",
    "\n"
   ]
  },
  {
   "cell_type": "code",
   "execution_count": null,
   "id": "87730dfb",
   "metadata": {},
   "outputs": [
    {
     "name": "stdout",
     "output_type": "stream",
     "text": [
      "Qui est la fille la plus jolie du monde?\n",
      "Too bad! that is not the correct answer\n",
      "Qui est la fille la plus jolie du monde?\n",
      "Too bad! that is not the correct answer\n",
      "Qui est la fille la plus jolie du monde?\n",
      "Good job! This is the right answer\n",
      "Qui est la plus méchante?\n",
      "Too bad! that is not the correct answer\n",
      "Qui est la plus méchante?\n",
      "Too bad! that is not the correct answer\n",
      "Qui est la plus méchante?\n",
      "Too bad! that is not the correct answer\n",
      "Qui est la plus méchante?\n",
      "Good job! This is the right answer\n",
      "Should she eat the red apple?\n",
      "Too bad! that is not the correct answer\n",
      "Should she eat the red apple?\n",
      "Too bad! that is not the correct answer\n",
      "Should she eat the red apple?\n",
      "Too bad! that is not the correct answer\n",
      "Should she eat the red apple?\n",
      "Too bad! that is not the correct answer\n",
      "Should she eat the red apple?\n"
     ]
    }
   ],
   "source": [
    "A1 = \"\"\n",
    "\n",
    "while A1 != \"White Snow\":\n",
    "    print(\"Qui est la fille la plus jolie du monde?\")\n",
    "    A1 = input(\"Tell me your answer: \")\n",
    "\n",
    "    if  A1 != \"White Snow\":\n",
    "        print(\"Too bad! that is not the correct answer\")\n",
    "\n",
    "print(\"Good job! This is the right answer\")\n",
    "\n",
    "A2 = \"\"\n",
    "\n",
    "while A2 != \"Queen\":\n",
    "    print(\"Qui est la plus méchante?\")\n",
    "    A2 = input(\"Tell me your answer: \")\n",
    "\n",
    "    if  A2 != \"Queen\":\n",
    "        print(\"Too bad! that is not the correct answer\")\n",
    "\n",
    "print(\"Good job! This is the right answer\")\n",
    "\n",
    "A3 = \"\"\n",
    "\n",
    "while A3 != \"No\":\n",
    "    print(\"Should she eat the red apple?\")\n",
    "    A2 = input(\"Tell me your answer: \")\n",
    "\n",
    "    if  A3 != \"No\":\n",
    "        print(\"Too bad! that is not the correct answer\")\n",
    "\n",
    "print(\"Good job! This is the right answer\")"
   ]
  },
  {
   "cell_type": "code",
   "execution_count": 1,
   "id": "403f9351",
   "metadata": {},
   "outputs": [
    {
     "name": "stdout",
     "output_type": "stream",
     "text": [
      "Who is the most beautiful girl?\n",
      "Good job! This is the right answer\n",
      "Who is the meanest?\n",
      "Good job! This is the right answer\n",
      "Should she eat the red apple?\n",
      "Good job! This is the right answer\n"
     ]
    }
   ],
   "source": [
    "correct_answer1 = \"White Snow\"\n",
    "attemps = 0\n",
    "user_answer1 = \"\"\n",
    "\n",
    "while correct_answer1 != user_answer1 and attemps < 3:\n",
    "    print(\"Who is the most beautiful girl?\")\n",
    "    user_answer1 = input(\"Tell me your answer: \")\n",
    "\n",
    "    if  user_answer1 == correct_answer1:\n",
    "        print(\"Good job! This is the right answer\")\n",
    "        break  \n",
    "        \n",
    "    else:\n",
    "        attemps += 1\n",
    "        print(\"Too bad! that is not the correct answer\")\n",
    "        \n",
    "if attemps >= 3:\n",
    "    print(\"Too bad, you lost the game!\")\n",
    "\n",
    "\n",
    "correct_answer2 = \"Queen\"\n",
    "attemps = 0\n",
    "user_answer2 = \"\"\n",
    "\n",
    "while correct_answer2 != user_answer2 and attemps < 3:\n",
    "    print(\"Who is the meanest?\")\n",
    "    user_answer2 = input(\"Tell me your answer: \")\n",
    "\n",
    "    if  user_answer2 == correct_answer2:\n",
    "        print(\"Good job! This is the right answer\")\n",
    "        break\n",
    "    else:\n",
    "        attemps += 1\n",
    "        print(\"Too bad! that is not the correct answer\")\n",
    "        \n",
    "if attemps >= 3:\n",
    "    print(\"Too bad, you lost the game!\")\n",
    "\n",
    "correct_answer3 = \"No\"\n",
    "attemps = 0\n",
    "user_answer3 = \"\"\n",
    "\n",
    "while correct_answer3 != user_answer3 and attemps < 3:\n",
    "    print(\"Should she eat the red apple?\")\n",
    "    user_answer3 = input(\"Tell me your answer: \")\n",
    "\n",
    "    if  user_answer3 == correct_answer3:\n",
    "        print(\"Good job! This is the right answer\")\n",
    "        break\n",
    "    else:\n",
    "        attemps += 1\n",
    "        print(\"Too bad! that is not the correct answer\")\n",
    "        \n",
    "if attemps >= 3:\n",
    "    print(\"Too bad, you lost the game!\")\n",
    "\n",
    "    "
   ]
  },
  {
   "cell_type": "code",
   "execution_count": null,
   "id": "22dc9d85",
   "metadata": {},
   "outputs": [
    {
     "name": "stdout",
     "output_type": "stream",
     "text": [
      "Who is the most beautiful girl?\n",
      "Good job! This is the right answer\n",
      "True bravo\n"
     ]
    }
   ],
   "source": [
    "def answer_my_question(Question, Correct_answer):\n",
    "    attemps = 0\n",
    "    User_answer = \" \"\n",
    "\n",
    "    while Correct_answer.lower() != User_answer.lower() and attemps < 3:\n",
    "        print(Question)\n",
    "        User_answer = input(\"Tell me your answer: \")\n",
    "\n",
    "        if User_answer.lower() == Correct_answer.lower():\n",
    "            print(\"Good job! This is the right answer\")\n",
    "            return True\n",
    "        else:\n",
    "            attemps += 1\n",
    "            print(\"Too bad! that is not the correct answer\")\n",
    "        \n",
    "    if attemps >= 3:\n",
    "        print(\"Too bad, you lost the game!\")\n",
    "        return False\n",
    "\n",
    "result1 = answer_my_question(\"Who is the most beautiful girl?\", \"White Snow\")\n",
    "if result1:\n",
    "    result2 = answer_my_question(\"Who is the meanest?\", \"Queen\")\n",
    "    if result2:\n",
    "        result3 = answer_my_question(\"Should she eat the red apple?\", \"No\")\n",
    "        if result3:\n",
    "            print(\"Congratulations! You have answered all questions correctly!\")"
   ]
  },
  {
   "cell_type": "code",
   "execution_count": null,
   "id": "77c2aaaa",
   "metadata": {},
   "outputs": [],
   "source": [
    "result1 = answer_my_question(\"Who is the most beautiful girl?\", \"White Snow\")\n",
    "result2 = answer_my_question(\"Who is the meanest?\", \"Queen\")\n",
    "result3 = answer_my_question(\"Should she eat the red apple?\", \"No\")"
   ]
  },
  {
   "cell_type": "code",
   "execution_count": null,
   "id": "5db39aa0",
   "metadata": {},
   "outputs": [],
   "source": [
    "Questions = {\"Who is the most beautiful girl?\": \"White Snow\",\n",
    "             \"Who is the meanest?\" : \"Queen\",\n",
    "             \"Should she eat the red apple?\" : \"No\"}"
   ]
  },
  {
   "cell_type": "code",
   "execution_count": 31,
   "id": "feca5246",
   "metadata": {},
   "outputs": [
    {
     "ename": "AttributeError",
     "evalue": "'list' object has no attribute 'list_initial'",
     "output_type": "error",
     "traceback": [
      "\u001b[31m---------------------------------------------------------------------------\u001b[39m",
      "\u001b[31mAttributeError\u001b[39m                            Traceback (most recent call last)",
      "\u001b[36mCell\u001b[39m\u001b[36m \u001b[39m\u001b[32mIn[31]\u001b[39m\u001b[32m, line 21\u001b[39m\n\u001b[32m     17\u001b[39m         \u001b[38;5;28;01mreturn\u001b[39;00m \u001b[38;5;28mself\u001b[39m.list_initial\n\u001b[32m     20\u001b[39m list_initial = [(\u001b[38;5;28;01mNone\u001b[39;00m, \u001b[32m2\u001b[39m, \u001b[32m3\u001b[39m, \u001b[32m12\u001b[39m, \u001b[32m5\u001b[39m, \u001b[32m6\u001b[39m, \u001b[38;5;28;01mNone\u001b[39;00m)]  \u001b[38;5;66;03m# \u001b[39;00m\n\u001b[32m---> \u001b[39m\u001b[32m21\u001b[39m result = \u001b[43mImputer\u001b[49m\u001b[43m.\u001b[49m\u001b[43mremplir_median\u001b[49m\u001b[43m(\u001b[49m\u001b[43mlist_initial\u001b[49m\u001b[43m)\u001b[49m\n\u001b[32m     22\u001b[39m \u001b[38;5;28mprint\u001b[39m(\u001b[33m\"\u001b[39m\u001b[33mHere is my list after imputer: \u001b[39m\u001b[33m\"\u001b[39m, result)\n",
      "\u001b[36mCell\u001b[39m\u001b[36m \u001b[39m\u001b[32mIn[31]\u001b[39m\u001b[32m, line 7\u001b[39m, in \u001b[36mImputer.remplir_median\u001b[39m\u001b[34m(self)\u001b[39m\n\u001b[32m      6\u001b[39m \u001b[38;5;28;01mdef\u001b[39;00m\u001b[38;5;250m \u001b[39m\u001b[34mremplir_median\u001b[39m(\u001b[38;5;28mself\u001b[39m):\n\u001b[32m----> \u001b[39m\u001b[32m7\u001b[39m     numbers = [i \u001b[38;5;28;01mfor\u001b[39;00m i \u001b[38;5;129;01min\u001b[39;00m \u001b[38;5;28;43mself\u001b[39;49m\u001b[43m.\u001b[49m\u001b[43mlist_initial\u001b[49m \u001b[38;5;28;01mif\u001b[39;00m i \u001b[38;5;129;01mis\u001b[39;00m \u001b[38;5;129;01mnot\u001b[39;00m \u001b[38;5;28;01mNone\u001b[39;00m]\n\u001b[32m      9\u001b[39m     \u001b[38;5;28;01mif\u001b[39;00m \u001b[38;5;129;01mnot\u001b[39;00m numbers:\n\u001b[32m     10\u001b[39m         \u001b[38;5;28;01mreturn\u001b[39;00m list_initial\n",
      "\u001b[31mAttributeError\u001b[39m: 'list' object has no attribute 'list_initial'"
     ]
    }
   ],
   "source": [
    "import statistics\n",
    "class Imputer():\n",
    "    def __init__(self):\n",
    "        self.list_initial = list_initial\n",
    "    \n",
    "    def remplir_median(self):\n",
    "        numbers = [i for i in self.list_initial if i is not None]\n",
    "\n",
    "        if not numbers:\n",
    "            return list_initial\n",
    "\n",
    "        median = statistics.median(numbers)\n",
    "\n",
    "        for i, x in enumerate(self.list_initial):\n",
    "            if x is None:\n",
    "                self.list_initial[i] = median\n",
    "        return self.list_initial\n",
    "\n",
    "\n",
    "list_initial = [(None, 2, 3, 12, 5, 6, None)]  # \n",
    "result = Imputer.remplir_median(list_initial)\n",
    "print(\"Here is my list after imputer: \", result)"
   ]
  }
 ],
 "metadata": {
  "kernelspec": {
   "display_name": "Python 3",
   "language": "python",
   "name": "python3"
  },
  "language_info": {
   "codemirror_mode": {
    "name": "ipython",
    "version": 3
   },
   "file_extension": ".py",
   "mimetype": "text/x-python",
   "name": "python",
   "nbconvert_exporter": "python",
   "pygments_lexer": "ipython3",
   "version": "3.13.4"
  }
 },
 "nbformat": 4,
 "nbformat_minor": 5
}
