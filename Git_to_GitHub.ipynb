{
 "cells": [
  {
   "cell_type": "markdown",
   "id": "ed2ef36e",
   "metadata": {},
   "source": [
    "Git同步到GitHub 办法\n",
    "\n",
    "将要上传到GitHub的文件先放到Git的本地仓库文件夹里，然后在bash面板敲入以下代码:\n",
    "\n",
    "# 在仓库根目录下\n",
    "git add . 文件名                       # 添加所有改动和新文件\n",
    "git commit -m \"描述这次更改或添加\"   #更改就说更改，新增就说新增\n",
    "git push origin main             # 推送到 GitHub\n"
   ]
  }
 ],
 "metadata": {
  "language_info": {
   "name": "python"
  }
 },
 "nbformat": 4,
 "nbformat_minor": 5
}
