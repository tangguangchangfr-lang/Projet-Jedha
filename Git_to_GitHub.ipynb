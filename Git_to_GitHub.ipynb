{
 "cells": [
  {
   "cell_type": "markdown",
   "id": "ed2ef36e",
   "metadata": {},
   "source": [
    "Git同步到GitHub 办法\n",
    "\n",
    "将要上传到GitHub的文件先放到Git的本地仓库文件夹里，然后在bash面板敲入以下代码:\n",
    "\n",
    "# 在仓库根目录下\n",
    "git add . 文件名                       # 添加所有改动和新文件\n",
    "git commit -m \"描述这次更改或添加\"   #更改就说更改，新增就说新增\n",
    "git push origin main             # 推送到 GitHub\n"
   ]
  },
  {
   "cell_type": "markdown",
   "id": "a0872fd6",
   "metadata": {},
   "source": [
    "branch\n",
    "\n",
    "同步协作的时候，某个github账户的管理员可以给我创建一个branch，我操作过程如下\n",
    "git colone URL(管理员账户的链接)   \n",
    "#这一步会让我把管理员的云仓库克隆到我的本地仓库并且自动创建一个新的本地 Git 仓库。\n",
    "cd 克隆后新建的文件名\n",
    "git checkout [branch-name]\n",
    "git branch   # 确认我是否在分支上\n",
    "之后如果想要创建一个新的fichier,可以这么做\n",
    "touch 文件名.py\n",
    "然后就是上面的上传3部曲\n",
    "之后去管理员的github账户里点击创建一个Pull Request（PR）\n",
    "再就是等管理员的处理\n"
   ]
  }
 ],
 "metadata": {
  "language_info": {
   "name": "python"
  }
 },
 "nbformat": 4,
 "nbformat_minor": 5
}
